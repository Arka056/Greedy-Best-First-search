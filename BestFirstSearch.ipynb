{
  "nbformat": 4,
  "nbformat_minor": 0,
  "metadata": {
    "colab": {
      "provenance": []
    },
    "kernelspec": {
      "name": "python3",
      "display_name": "Python 3"
    },
    "language_info": {
      "name": "python"
    }
  },
  "cells": [
    {
      "cell_type": "code",
      "execution_count": 1,
      "metadata": {
        "colab": {
          "base_uri": "https://localhost:8080/"
        },
        "id": "zXIJOZDyRC8H",
        "outputId": "55990689-60b2-4197-e33f-e368e9299b90"
      },
      "outputs": [
        {
          "output_type": "stream",
          "name": "stdout",
          "text": [
            "Treasure found!\n",
            "Path: [(0, 0), (0, 1), (0, 2), (1, 2), (1, 3), (2, 3)]\n"
          ]
        }
      ],
      "source": [
        "import heapq\n",
        "\n",
        "# Define the Manhattan distance heuristic function\n",
        "def manhattan_distance(x1, y1, x2, y2):\n",
        "    return abs(x1 - x2) + abs(y1 - y2)\n",
        "\n",
        "# Define the Best-First Search function\n",
        "def best_first_search(grid, start, goal):\n",
        "    rows, cols = len(grid), len(grid[0])\n",
        "    visited = [[False for _ in range(cols)] for _ in range(rows)]\n",
        "    priority_queue = []\n",
        "    parent = {}\n",
        "\n",
        "    # Push the start node into the priority queue with its heuristic value\n",
        "    heapq.heappush(priority_queue, (grid[start[0]][start[1]], start))\n",
        "    visited[start[0]][start[1]] = True\n",
        "    parent[start] = None\n",
        "\n",
        "    while priority_queue:\n",
        "        # Pop the node with the smallest heuristic value\n",
        "        _, current = heapq.heappop(priority_queue)\n",
        "        x, y = current\n",
        "\n",
        "        # If we have reached the goal, reconstruct and return the path\n",
        "        if current == goal:\n",
        "            path = []\n",
        "            while current is not None:\n",
        "                path.append(current)\n",
        "                current = parent[current]\n",
        "            path.reverse()\n",
        "            return path\n",
        "\n",
        "        # Explore the neighbors (up, down, left, right)\n",
        "        for dx, dy in [(-1, 0), (1, 0), (0, -1), (0, 1)]:\n",
        "            nx, ny = x + dx, y + dy\n",
        "            if 0 <= nx < rows and 0 <= ny < cols and not visited[nx][ny]:\n",
        "                visited[nx][ny] = True\n",
        "                parent[(nx, ny)] = (x, y)\n",
        "                heapq.heappush(priority_queue, (grid[nx][ny], (nx, ny)))\n",
        "\n",
        "    # If we exhaust the priority queue without finding the goal, return None\n",
        "    return None\n",
        "\n",
        "# Example usage\n",
        "grid = [\n",
        "    [4, 3, 2, 3],\n",
        "    [3, 2, 1, 2],\n",
        "    [4, 3, 2, 1],\n",
        "    [5, 4, 3, 2]\n",
        "]\n",
        "start = (0, 0)\n",
        "goal = (2, 3)\n",
        "\n",
        "path = best_first_search(grid, start, goal)\n",
        "if path:\n",
        "    print(\"Treasure found!\")\n",
        "    print(\"Path:\", path)\n",
        "else:\n",
        "    print(\"Treasure not found.\")"
      ]
    }
  ]
}